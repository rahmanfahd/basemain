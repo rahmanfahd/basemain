{
 "cells": [
  {
   "cell_type": "markdown",
   "metadata": {},
   "source": [
    "## HAECO Data Report Collation"
   ]
  },
  {
   "cell_type": "code",
   "execution_count": 1,
   "metadata": {},
   "outputs": [],
   "source": [
    "import pandas as pd\n",
    "import numpy as np"
   ]
  },
  {
   "cell_type": "markdown",
   "metadata": {},
   "source": [
    "#### Main Index file"
   ]
  },
  {
   "cell_type": "code",
   "execution_count": 2,
   "metadata": {},
   "outputs": [],
   "source": [
    "file_name = '/Users/rahmanfahd/Downloads/Copy of HMA100-20210802.xlsx' \n",
    "alls = pd.read_excel(file_name, index_col=None)"
   ]
  },
  {
   "cell_type": "code",
   "execution_count": 3,
   "metadata": {},
   "outputs": [],
   "source": [
    "alls.Status.value_counts()\n",
    "alls1 = alls.loc[(alls['Status'] == 'ACTIVE')| (alls['Status'] == 'TERMINATING')]\n",
    "alls1 = alls1[alls1['Home Section'].str.contains(\"^(?:0B|09|0G|0S|AC|CS|0JB|0J9|0JS|0JCS|0JNT)\")|alls1['Current Section'].str.contains(\"^(?:0B|09|0G|0S|AC|CS|0JB|0J9|0JS|0JCS|0JNT)\")]\n",
    "alls1 = alls1.rename(columns={'Staff No': 'Staff No.'})\n",
    "\n",
    "#alls.head(10)\n",
    "#alls1.count()\n",
    "#alls1['Staff No'].dtypes\n",
    "#alls1['Staff No.'] = alls1['Staff No'].astype(str).str.zfill(6)"
   ]
  },
  {
   "cell_type": "code",
   "execution_count": 4,
   "metadata": {},
   "outputs": [],
   "source": [
    "final = alls1[['Staff No.','Staff Name','Home Section']]"
   ]
  },
  {
   "cell_type": "markdown",
   "metadata": {},
   "source": [
    "#### License data"
   ]
  },
  {
   "cell_type": "code",
   "execution_count": 5,
   "metadata": {},
   "outputs": [],
   "source": [
    "file_name = '/Users/rahmanfahd/Downloads/QA_Lic_Full_Detailed_List-20220411.xlsx' \n",
    "lic = pd.read_excel(file_name, index_col=None)"
   ]
  },
  {
   "cell_type": "code",
   "execution_count": 6,
   "metadata": {},
   "outputs": [],
   "source": [
    "lic = lic.iloc[6:]\n",
    "lic.columns = lic.iloc[0]\n",
    "lic = lic[1:]\n",
    "lic = lic.iloc[1:]\n",
    "\n",
    "lic['bl'] = lic['Module Properties-Module Title'].str.split('_').str[1]\n",
    "lic['bl'] = lic['bl'].str.split('/').str[0]\n",
    "lic['Basic License'] = np.where(lic['bl']=='FAA','FAA',lic['Module Properties-Module Title'].str.split('/').str[3])\n",
    "lic['Basic License'] = np.where(((lic['bl']=='HKCAD')|(lic['bl']=='FAA')),lic['Basic License'], 'NDT' )\n",
    "lic['Basic License'] = lic['Basic License'].replace(['B1.1'],'B1')\n",
    "lic = lic[lic['Basic License'] != '--']\n",
    "\n",
    "#lic['User Properties-Employee Number'].nunique()\n",
    "lic2 = lic.groupby(['User Properties-Employee Number'])['Basic License'].apply('/'.join).reset_index()\n",
    "lic2 = lic.groupby(['User Properties-Employee Number'])['Basic License'].apply('/ '.join).reset_index()\n",
    "lic2['Basic License'] = lic2['Basic License'].str.split('/ ').apply(pd.unique)\n",
    "lic2['Basic License'] = lic2['Basic License'].str.join('/ ')"
   ]
  },
  {
   "cell_type": "code",
   "execution_count": 7,
   "metadata": {},
   "outputs": [],
   "source": [
    "lic2 = lic2.rename(columns={'User Properties-Employee Number': 'Staff No.'})\n",
    "final = pd.merge(final, lic2, on=\"Staff No.\", how='left' )"
   ]
  },
  {
   "cell_type": "markdown",
   "metadata": {},
   "source": [
    "#### Authorization AC data"
   ]
  },
  {
   "cell_type": "code",
   "execution_count": 8,
   "metadata": {},
   "outputs": [],
   "source": [
    "file_name = '/Users/rahmanfahd/Downloads/HCA114_Auth-HX-20210802.xlsx' \n",
    "auth = pd.read_excel(file_name, index_col=None)"
   ]
  },
  {
   "cell_type": "code",
   "execution_count": 9,
   "metadata": {},
   "outputs": [],
   "source": [
    "def rename(df,column):\n",
    "    df[column] = df[column].replace(['A332','A333','A332F','A333F','A339'],'A330')\n",
    "    df[column] = df[column].replace(['A343','A342'],'A340')\n",
    "    df[column] = df[column].replace(['B77W','B772','B773','B77LF','B77L'],'B777')\n",
    "    df[column] = df[column].replace(['B763','B763F','B764','B762F','B762'],'B767')\n",
    "    df[column] = df[column].replace(['A359','A35K'],'A350')\n",
    "    df[column] = df[column].replace(['B789','B788','B78X'],'B787')\n",
    "    df[column] = df[column].replace(['MD11F','MD11'],'MD11')\n",
    "    df[column] = df[column].replace(['A319','A318','A321','A20N','A21N'],'A320')\n",
    "    df[column] = df[column].replace(['B753','B752'],'B757')\n",
    "    df[column] = df[column].replace(['B753','B752'],'B757')\n",
    "    df[column] = df[column].replace(['A306','A306F'],'A300')\n",
    "    df[column] = df[column].replace(['B738','B737','B739','B736'],'B737NG')\n",
    "    df[column] = df[column].replace(['A388'],'A380')\n",
    "    df[column] = df[column].replace(['B744F'],'B747-400')\n",
    "    df[column] = df[column].replace(['B748I','B748F'],'B747-8')\n",
    "    df[column] = df[column].replace(['B744'],'B747-Classic')\n",
    "    df[column] = df[column].replace(['B747'],'B747-Classic')"
   ]
  },
  {
   "cell_type": "code",
   "execution_count": 10,
   "metadata": {},
   "outputs": [],
   "source": [
    "auth['Auth AC'] = auth['Aircraft Type']\n",
    "rename(auth,'Auth AC')\n",
    "auth1 = auth.groupby(['Staff Name','Staff No.'])['Auth AC'].apply(', '.join).reset_index()\n",
    "auth1['Auth AC'] = auth1['Auth AC'].str.split(', ').apply(pd.unique)\n",
    "auth1['Auth AC'] = auth1['Auth AC'].str.join(', ')"
   ]
  },
  {
   "cell_type": "code",
   "execution_count": 11,
   "metadata": {},
   "outputs": [],
   "source": [
    "#auth1 = auth1.rename(columns={'Staff No.': 'Staff No'})\n",
    "final = pd.merge(final, auth1[['Staff No.','Auth AC']], on=\"Staff No.\", how='left')"
   ]
  },
  {
   "cell_type": "markdown",
   "metadata": {},
   "source": [
    "#### Authorization AC/Engine data"
   ]
  },
  {
   "cell_type": "code",
   "execution_count": 12,
   "metadata": {},
   "outputs": [],
   "source": [
    "auth['Auth Eng'] = auth['Auth AC'] + \"/\" +auth['Engine Type']\n",
    "auth2 = auth.groupby(['Staff Name','Staff No.'])['Auth Eng'].apply(', '.join).reset_index()\n",
    "auth2['Auth Eng'] = auth2['Auth Eng'].str.split(', ').apply(pd.unique)\n",
    "auth2['Auth Eng'] = auth2['Auth Eng'].str.join(', ')"
   ]
  },
  {
   "cell_type": "code",
   "execution_count": 13,
   "metadata": {},
   "outputs": [],
   "source": [
    "#auth2 = auth2.rename(columns={'Staff No.': 'Staff No'})\n",
    "final = pd.merge(final, auth2[['Staff No.','Auth Eng']],on=\"Staff No.\", how='left' )"
   ]
  },
  {
   "cell_type": "code",
   "execution_count": 14,
   "metadata": {},
   "outputs": [
    {
     "data": {
      "text/html": [
       "<div>\n",
       "<style scoped>\n",
       "    .dataframe tbody tr th:only-of-type {\n",
       "        vertical-align: middle;\n",
       "    }\n",
       "\n",
       "    .dataframe tbody tr th {\n",
       "        vertical-align: top;\n",
       "    }\n",
       "\n",
       "    .dataframe thead th {\n",
       "        text-align: right;\n",
       "    }\n",
       "</style>\n",
       "<table border=\"1\" class=\"dataframe\">\n",
       "  <thead>\n",
       "    <tr style=\"text-align: right;\">\n",
       "      <th></th>\n",
       "      <th>Staff No.</th>\n",
       "      <th>Staff Name</th>\n",
       "      <th>Home Section</th>\n",
       "      <th>Basic License</th>\n",
       "      <th>Auth AC</th>\n",
       "      <th>Auth Eng</th>\n",
       "    </tr>\n",
       "  </thead>\n",
       "  <tbody>\n",
       "    <tr>\n",
       "      <th>0</th>\n",
       "      <td>74659</td>\n",
       "      <td>LAW HING CHOY</td>\n",
       "      <td>0BA4</td>\n",
       "      <td>NaN</td>\n",
       "      <td>A330, B777</td>\n",
       "      <td>A330/T700, B777/--</td>\n",
       "    </tr>\n",
       "    <tr>\n",
       "      <th>1</th>\n",
       "      <td>75540</td>\n",
       "      <td>FAN KWAI ON</td>\n",
       "      <td>CSDY</td>\n",
       "      <td>NaN</td>\n",
       "      <td>--</td>\n",
       "      <td>--/--</td>\n",
       "    </tr>\n",
       "    <tr>\n",
       "      <th>2</th>\n",
       "      <td>77554</td>\n",
       "      <td>TSE CHI BIU</td>\n",
       "      <td>0GMR</td>\n",
       "      <td>NaN</td>\n",
       "      <td>--</td>\n",
       "      <td>--/--</td>\n",
       "    </tr>\n",
       "    <tr>\n",
       "      <th>3</th>\n",
       "      <td>77687</td>\n",
       "      <td>KUEN SHUI BUN</td>\n",
       "      <td>0STY</td>\n",
       "      <td>NaN</td>\n",
       "      <td>--</td>\n",
       "      <td>--/--</td>\n",
       "    </tr>\n",
       "    <tr>\n",
       "      <th>4</th>\n",
       "      <td>77760</td>\n",
       "      <td>TAM CHING SHAN</td>\n",
       "      <td>CSNT</td>\n",
       "      <td>NaN</td>\n",
       "      <td>--</td>\n",
       "      <td>--/--</td>\n",
       "    </tr>\n",
       "    <tr>\n",
       "      <th>...</th>\n",
       "      <td>...</td>\n",
       "      <td>...</td>\n",
       "      <td>...</td>\n",
       "      <td>...</td>\n",
       "      <td>...</td>\n",
       "      <td>...</td>\n",
       "    </tr>\n",
       "    <tr>\n",
       "      <th>1557</th>\n",
       "      <td>342014</td>\n",
       "      <td>CHAN WAI KIU</td>\n",
       "      <td>0JSP</td>\n",
       "      <td>NaN</td>\n",
       "      <td>NaN</td>\n",
       "      <td>NaN</td>\n",
       "    </tr>\n",
       "    <tr>\n",
       "      <th>1558</th>\n",
       "      <td>342022</td>\n",
       "      <td>HUANG CHUN YAM</td>\n",
       "      <td>0JSP</td>\n",
       "      <td>NaN</td>\n",
       "      <td>NaN</td>\n",
       "      <td>NaN</td>\n",
       "    </tr>\n",
       "    <tr>\n",
       "      <th>1559</th>\n",
       "      <td>342030</td>\n",
       "      <td>LI PEI YI</td>\n",
       "      <td>0JSP</td>\n",
       "      <td>NaN</td>\n",
       "      <td>NaN</td>\n",
       "      <td>NaN</td>\n",
       "    </tr>\n",
       "    <tr>\n",
       "      <th>1560</th>\n",
       "      <td>342048</td>\n",
       "      <td>SO LING FUNG</td>\n",
       "      <td>0JSP</td>\n",
       "      <td>NaN</td>\n",
       "      <td>NaN</td>\n",
       "      <td>NaN</td>\n",
       "    </tr>\n",
       "    <tr>\n",
       "      <th>1561</th>\n",
       "      <td>342056</td>\n",
       "      <td>WONG HON YAM</td>\n",
       "      <td>0JSP</td>\n",
       "      <td>NaN</td>\n",
       "      <td>NaN</td>\n",
       "      <td>NaN</td>\n",
       "    </tr>\n",
       "  </tbody>\n",
       "</table>\n",
       "<p>1562 rows × 6 columns</p>\n",
       "</div>"
      ],
      "text/plain": [
       "      Staff No.      Staff Name Home Section Basic License     Auth AC  \\\n",
       "0         74659   LAW HING CHOY         0BA4           NaN  A330, B777   \n",
       "1         75540     FAN KWAI ON         CSDY           NaN          --   \n",
       "2         77554     TSE CHI BIU         0GMR           NaN          --   \n",
       "3         77687   KUEN SHUI BUN         0STY           NaN          --   \n",
       "4         77760  TAM CHING SHAN         CSNT           NaN          --   \n",
       "...         ...             ...          ...           ...         ...   \n",
       "1557     342014    CHAN WAI KIU         0JSP           NaN         NaN   \n",
       "1558     342022  HUANG CHUN YAM         0JSP           NaN         NaN   \n",
       "1559     342030       LI PEI YI         0JSP           NaN         NaN   \n",
       "1560     342048    SO LING FUNG         0JSP           NaN         NaN   \n",
       "1561     342056    WONG HON YAM         0JSP           NaN         NaN   \n",
       "\n",
       "                Auth Eng  \n",
       "0     A330/T700, B777/--  \n",
       "1                  --/--  \n",
       "2                  --/--  \n",
       "3                  --/--  \n",
       "4                  --/--  \n",
       "...                  ...  \n",
       "1557                 NaN  \n",
       "1558                 NaN  \n",
       "1559                 NaN  \n",
       "1560                 NaN  \n",
       "1561                 NaN  \n",
       "\n",
       "[1562 rows x 6 columns]"
      ]
     },
     "execution_count": 14,
     "metadata": {},
     "output_type": "execute_result"
    }
   ],
   "source": [
    "#final"
   ]
  },
  {
   "cell_type": "markdown",
   "metadata": {},
   "source": [
    "#### License AC/Engine data"
   ]
  },
  {
   "cell_type": "code",
   "execution_count": 15,
   "metadata": {},
   "outputs": [],
   "source": [
    "lic['AC']=lic['Module Properties-Module Title'].str.split('/').str[1]\n",
    "lic['AC'] = lic['AC'].str.split('_').str[0]\n",
    "lic['Lic AC'] = np.where(lic['AC']!='B747-400',lic['AC'].str.split('-').str[0],'B747-400')\n",
    "lic = lic.loc[lic['AC'] != '--']\n",
    "rename(lic,'Lic AC')\n",
    "lic1 = lic.groupby(['User Properties-Employee Number'])['Lic AC'].apply(', '.join).reset_index()\n",
    "lic1['Lic AC'] = lic1['Lic AC'].str.split(', ').apply(pd.unique)\n",
    "lic1['Lic AC']  = lic1['Lic AC'] .str.join(', ')"
   ]
  },
  {
   "cell_type": "code",
   "execution_count": 16,
   "metadata": {},
   "outputs": [
    {
     "data": {
      "text/plain": [
       "0                           B737NG, B747-400, B767, B777\n",
       "1      A300, A310, A320, A330, A340, B747-Classic, B7...\n",
       "2               B747-400, B747-Classic, B767, B777, B787\n",
       "3         A320, A330, A340, B747-Classic, B747-400, B777\n",
       "4      A320, A330, A340, B747-Classic, B747-400, B757...\n",
       "                             ...                        \n",
       "158    A300, A320, A330, A340, B737NG, B747-Classic, ...\n",
       "159     A320, B737NG, B747-400, B747-Classic, B767, B777\n",
       "160    A320, A330, A340, B737NG, B747-Classic, B747-4...\n",
       "161       A330, A340, B747-Classic, B747-400, B767, B777\n",
       "162             A330, A340, B747-Classic, B747-400, B777\n",
       "Name: Lic AC, Length: 163, dtype: object"
      ]
     },
     "execution_count": 16,
     "metadata": {},
     "output_type": "execute_result"
    }
   ],
   "source": [
    "#lic1['Lic AC']"
   ]
  },
  {
   "cell_type": "code",
   "execution_count": 17,
   "metadata": {},
   "outputs": [],
   "source": [
    "lic1 = lic1.rename(columns={'User Properties-Employee Number': 'Staff No.'})\n",
    "final = pd.merge(final, lic1,  on=\"Staff No.\", how='left' )"
   ]
  },
  {
   "cell_type": "code",
   "execution_count": 18,
   "metadata": {},
   "outputs": [],
   "source": [
    "lic['engines']=lic['Module Properties-Module Title'].str.split('/').str[2]\n",
    "lic = lic.loc[lic['engines'] != '--']\n",
    "lic['Lic Eng'] = lic['Lic AC'] + \"/\" + lic['engines']\n",
    "lic3 = lic.groupby(['User Properties-Employee Number'])['Lic Eng'].apply(', '.join).reset_index()\n",
    "lic3['Lic Eng'] = lic3['Lic Eng'].str.split(', ').apply(pd.unique)\n",
    "lic3['Lic Eng'] = lic3['Lic Eng'].str.join(', ')"
   ]
  },
  {
   "cell_type": "code",
   "execution_count": 19,
   "metadata": {},
   "outputs": [],
   "source": [
    "lic3 = lic3.rename(columns={'User Properties-Employee Number': 'Staff No.'})\n",
    "final = pd.merge(final, lic3,  on=\"Staff No.\",how='left' )"
   ]
  },
  {
   "cell_type": "markdown",
   "metadata": {},
   "source": [
    "#### Engrun data"
   ]
  },
  {
   "cell_type": "code",
   "execution_count": 20,
   "metadata": {},
   "outputs": [],
   "source": [
    "file_name = '/Users/rahmanfahd/Downloads/QA_Auth_Full_Detailed_List-20220411.xlsx' \n",
    "auths = pd.read_excel(file_name, index_col=None)"
   ]
  },
  {
   "cell_type": "code",
   "execution_count": 21,
   "metadata": {},
   "outputs": [],
   "source": [
    "auths = auths.iloc[6:]\n",
    "auths.columns = auths.iloc[0]\n",
    "auths = auths[1:]\n",
    "auths = auths.iloc[1:]\n",
    "\n",
    "auths['AC']=auths['Module Properties-Module ID'].str.split('_').str[0]\n",
    "auths['Cat']=auths['Module Properties-Module ID'].str.split('_').str[2]\n",
    "\n",
    "rename(auths,'AC')\n",
    "auths[\"Engrun\"] = np.where(auths['Cat']=='EGREXAMINER',auths['AC'] + \"/\" +auths['Module Properties-Module Title'].str.split(\"/\").str[1],\"\")\n",
    "\n",
    "auths4 = auths.groupby(['User Properties-Employee Number'])['Engrun'].apply(', '.join).reset_index()\n",
    "auths4['Engrun'] = auths4['Engrun'].str.split(', ').apply(pd.unique)\n",
    "auths4['Engrun'] = auths4['Engrun'].str.join(', ')"
   ]
  },
  {
   "cell_type": "code",
   "execution_count": 22,
   "metadata": {},
   "outputs": [],
   "source": [
    "auths4 = auths4.rename(columns={'User Properties-Employee Number': 'Staff No.'})\n",
    "final = pd.merge(final, auths4, on=\"Staff No.\", how='left' )"
   ]
  },
  {
   "cell_type": "markdown",
   "metadata": {},
   "source": [
    "#### Simulator Training Data"
   ]
  },
  {
   "cell_type": "code",
   "execution_count": 23,
   "metadata": {},
   "outputs": [],
   "source": [
    "file_name = '/Users/rahmanfahd/Downloads/HCA114_Trng-EGRSmltr-20210802.xlsx' \n",
    "sim = pd.read_excel(file_name, index_col=None)"
   ]
  },
  {
   "cell_type": "code",
   "execution_count": 24,
   "metadata": {},
   "outputs": [],
   "source": [
    "sim['AC Sim'] = sim['Course Title'].str.split(' ').str[0]\n",
    "sim['Examinar'] = np.where(sim['Course Title'].str.contains('Exam'),sim['AC Sim'], 'False')\n",
    "sim = sim[sim.groupby('Staff No.')['Course Completion Date'].transform('max') == sim['Course Completion Date']]"
   ]
  },
  {
   "cell_type": "code",
   "execution_count": 25,
   "metadata": {},
   "outputs": [],
   "source": [
    "#sim = sim.rename(columns={'Staff No.': 'Staff No'})\n",
    "final = pd.merge(final, sim[['Staff No.','AC Sim','Examinar']], on='Staff No.', how ='left')"
   ]
  },
  {
   "cell_type": "markdown",
   "metadata": {},
   "source": [
    "#### EASA Course Data"
   ]
  },
  {
   "cell_type": "code",
   "execution_count": 26,
   "metadata": {},
   "outputs": [],
   "source": [
    "file_name2 = '/Users/rahmanfahd/Downloads/HCA114_Trng-EASA-20210802.xlsx' \n",
    "easa_df = pd.read_excel(file_name2, index_col=None)"
   ]
  },
  {
   "cell_type": "code",
   "execution_count": 27,
   "metadata": {},
   "outputs": [],
   "source": [
    "easa_df1 = easa_df.groupby(['Staff No.','Staff Name','Course Code'])['Course Title'].apply(', '.join).reset_index()\n",
    "easa_df['Course Title'] = easa_df['Course Title'].replace({'EASA MOE & Company Procedure Training':'MOE', 'Aviation Legislation (M10) for EASA Part-66 Cat. B':'M10','Aviation Legislation Training for EASA Part-66 Cat. B':'M10','Human Factors (M9) for EASA Part-66 Cat. B':'M9','Human Factors (M9) for EASA Part-66 Cat. B (Multiple Choice)':'M9'})\n",
    "easa_df1 = easa_df.groupby(['Staff No.','Staff Name'])['Course Title'].apply(', '.join).reset_index()\n",
    "easa_df1['Course Title'] = easa_df1['Course Title'].str.split(', ').apply(pd.unique)\n",
    "easa_df1['EASA'] = easa_df1['Course Title'].str.join(', ')\n",
    "easa_df1['EASA'].apply(sorted);"
   ]
  },
  {
   "cell_type": "code",
   "execution_count": 28,
   "metadata": {},
   "outputs": [],
   "source": [
    "#easa_df1 = easa_df1.rename(columns={'Staff No.': 'Staff No'})\n",
    "final = pd.merge(final, easa_df1[['Staff No.','EASA']], on='Staff No.', how ='left')"
   ]
  },
  {
   "cell_type": "markdown",
   "metadata": {},
   "source": [
    "#### Soft Skill data"
   ]
  },
  {
   "cell_type": "code",
   "execution_count": 29,
   "metadata": {},
   "outputs": [],
   "source": [
    "file_name3 = '/Users/rahmanfahd/Downloads/HCA114_Trng-SoftSkill-20210802.xlsx' \n",
    "ss = pd.read_excel(file_name3, index_col=None)"
   ]
  },
  {
   "cell_type": "code",
   "execution_count": 30,
   "metadata": {},
   "outputs": [],
   "source": [
    "#define values\n",
    "values = ['N.H151','N.H150']\n",
    "\n",
    "#drop rows that contain any value in the list\n",
    "#ss = ss[ss.Course Code.isin(values) == False]\n",
    "ss = ss[ss['Course Code'].isin(values) == False]\n",
    "ss1 = ss.groupby(['Staff No.','Staff Name','Course Title'])['Course Code'].apply(', '.join).reset_index()\n",
    "ss1 = ss.groupby(['Staff No.','Staff Name'])['Course Code'].apply(', '.join).reset_index()\n",
    "ss1['Course Code'] = ss1['Course Code'].str.split(', ').apply(pd.unique)\n",
    "ss1['Soft Skill Courses'] = ss1['Course Code'].str.join(', ')"
   ]
  },
  {
   "cell_type": "code",
   "execution_count": 31,
   "metadata": {},
   "outputs": [],
   "source": [
    "final = pd.merge(final, ss1[['Staff No.','Soft Skill Courses']], on='Staff No.', how ='left')"
   ]
  },
  {
   "cell_type": "markdown",
   "metadata": {},
   "source": [
    "#### TPA data"
   ]
  },
  {
   "cell_type": "code",
   "execution_count": 32,
   "metadata": {},
   "outputs": [],
   "source": [
    "file_name4 = '/Users/rahmanfahd/Downloads/HCA114_Trng-TPA-20210802.xlsx' \n",
    "tpa = pd.read_excel(file_name4, index_col=None)"
   ]
  },
  {
   "cell_type": "code",
   "execution_count": 33,
   "metadata": {},
   "outputs": [],
   "source": [
    "tpa1 = tpa.groupby(['Staff No.','Staff Name'])['Course Code'].apply(', '.join).reset_index()\n",
    "tpa1 = tpa.groupby(['Staff No.','Staff Name'])['Course Code'].apply(', '.join).reset_index()\n",
    "tpa1['Course Code'] = tpa1['Course Code'].str.split(', ').apply(pd.unique)\n",
    "tpa1['Course Code'] = tpa1['Course Code'].str.join(', ')\n",
    "tpa1 = tpa1.rename(columns={'Course Code': 'T.PA'})\n",
    "tpa1['T.PA'].apply(sorted);"
   ]
  },
  {
   "cell_type": "code",
   "execution_count": 34,
   "metadata": {},
   "outputs": [],
   "source": [
    "final = pd.merge(final, tpa1[['Staff No.','T.PA']], on='Staff No.', how ='left')"
   ]
  },
  {
   "cell_type": "markdown",
   "metadata": {},
   "source": [
    "#### English data"
   ]
  },
  {
   "cell_type": "code",
   "execution_count": 35,
   "metadata": {},
   "outputs": [],
   "source": [
    "file_name5 = '/Users/rahmanfahd/Downloads/HCA114_Trng-HK601A-20210802.xlsx' \n",
    "eng1 = pd.read_excel(file_name5, index_col=None)\n",
    "eng1['Basic Eng'] = 'TradeEng'"
   ]
  },
  {
   "cell_type": "code",
   "execution_count": 36,
   "metadata": {},
   "outputs": [],
   "source": [
    "file_name6 = '/Users/rahmanfahd/Downloads/HCA114_Trng-L21x-20210802.xlsx' \n",
    "eng2 = pd.read_excel(file_name6, index_col=None)"
   ]
  },
  {
   "cell_type": "code",
   "execution_count": 37,
   "metadata": {},
   "outputs": [],
   "source": [
    "eng2['Courses'] =  eng2['Course Code'].str.split('.').str[1]\n",
    "eng3 = eng2.groupby(['Staff No.','Staff Name'])['Courses'].apply(', '.join).reset_index()\n",
    "eng3 = eng2.groupby(['Staff No.','Staff Name'])['Courses'].apply(', '.join).reset_index()\n",
    "eng3['Course_Codes'] = eng3['Courses'].str.split(', ').apply(pd.unique)\n",
    "\n",
    "eng3 = pd.merge(eng3, eng1[['Staff No.','Basic Eng']], on='Staff No.', how ='outer')\n",
    "eng3['Basic Eng'] = eng3['Basic Eng'].replace(np.nan, \"\")\n",
    "eng3['Courses'] = eng3['Courses'].replace(np.nan, \"\")\n",
    "\n",
    "col         = 'Basic Eng'\n",
    "conditions  = [ (eng3['Basic Eng'] == \"\") & (eng3['Courses'] != \"\"), (eng3['Basic Eng'] == \"\") & (eng3['Courses'] == \"\"), (eng3['Basic Eng'] != \"\") & (eng3['Courses'] != \"\"), (eng3['Basic Eng'] != \"\") & (eng3['Courses'] == \"\")]\n",
    "choices     = [ eng3['Courses'], '', eng3['Courses'] + \", \" + eng3['Basic Eng'], eng3['Basic Eng']]\n",
    "    \n",
    "eng3['English Training Completed'] = np.select(conditions, choices)\n",
    "eng3 = eng3.dropna(subset=['Course_Codes'])\n",
    "eng3['English Level'] = eng3.Course_Codes.apply(max)"
   ]
  },
  {
   "cell_type": "code",
   "execution_count": 38,
   "metadata": {},
   "outputs": [],
   "source": [
    "final = pd.merge(final, eng3[['Staff No.','English Level','English Training Completed']], on='Staff No.', how ='left')"
   ]
  },
  {
   "cell_type": "markdown",
   "metadata": {},
   "source": [
    "#### Sick Leave data"
   ]
  },
  {
   "cell_type": "code",
   "execution_count": 39,
   "metadata": {},
   "outputs": [],
   "source": [
    "file_name7 = '/Users/rahmanfahd/Downloads/HML730-SL-P-20210802.xlsx' \n",
    "sl = pd.read_excel(file_name7, index_col=None)"
   ]
  },
  {
   "cell_type": "code",
   "execution_count": 40,
   "metadata": {
    "scrolled": true
   },
   "outputs": [],
   "source": [
    "#sl['Lv Type'].value_counts()\n",
    "sl[['Start Date','End Date']] = sl[['Start Date','End Date']].apply(pd.to_datetime) #if conversion required\n",
    "sl['days'] = (sl['End Date'] - sl['Start Date']).dt.days + 1\n",
    "sl['all'] = np.where(sl['Lv Sess']=='2',0.5,0)\n",
    "sl['total'] = sl['days']-sl['all']\n",
    "sl['consec'] = np.where(sl['total'] != 1, True, False)\n",
    "\n",
    "#sl['Lv Sess'].value_counts()\n",
    "a = sl.groupby('Staff No',as_index=False).agg({'total':'sum'})\n",
    "sls = sl.loc[sl['consec'] == False]\n",
    "b = sls.groupby('Staff No',as_index=False).agg({'total':'sum'})\n",
    "\n",
    "#a.loc[a['Staff No'] == 201749]\n",
    "#b.loc[b['Staff No'] == 201749]\n",
    "\n",
    "a = pd.merge(a, b, on=\"Staff No\", how='left')\n",
    "a['S/L'] = a['total_y'].astype(str) + \" (\" + a['total_x'].astype(str) + \") \""
   ]
  },
  {
   "cell_type": "code",
   "execution_count": 41,
   "metadata": {},
   "outputs": [],
   "source": [
    "a = a.rename(columns={'Staff No': 'Staff No.'})\n",
    "final = pd.merge(final, a[['Staff No.','S/L']], on='Staff No.', how ='left')"
   ]
  },
  {
   "cell_type": "code",
   "execution_count": 42,
   "metadata": {},
   "outputs": [],
   "source": [
    "final['Staff No.'] = final['Staff No.'].astype(str).str.zfill(6)\n",
    "final['S/L'] = final['S/L'] .fillna('0 (0)')"
   ]
  },
  {
   "cell_type": "markdown",
   "metadata": {},
   "source": [
    "### Final Output"
   ]
  },
  {
   "cell_type": "code",
   "execution_count": 43,
   "metadata": {
    "scrolled": true
   },
   "outputs": [],
   "source": [
    "#pd.set_option('display.max_rows', 1500)\n",
    "#final.head(1500)"
   ]
  },
  {
   "cell_type": "markdown",
   "metadata": {},
   "source": [
    "#### Excel file name"
   ]
  },
  {
   "cell_type": "code",
   "execution_count": 44,
   "metadata": {},
   "outputs": [],
   "source": [
    "#final.to_excel(\"output.xlsx\")"
   ]
  },
  {
   "cell_type": "code",
   "execution_count": 46,
   "metadata": {},
   "outputs": [],
   "source": [
    "#final.describe()"
   ]
  },
  {
   "cell_type": "code",
   "execution_count": 47,
   "metadata": {
    "scrolled": true
   },
   "outputs": [
    {
     "data": {
      "text/html": [
       "<div>\n",
       "<style scoped>\n",
       "    .dataframe tbody tr th:only-of-type {\n",
       "        vertical-align: middle;\n",
       "    }\n",
       "\n",
       "    .dataframe tbody tr th {\n",
       "        vertical-align: top;\n",
       "    }\n",
       "\n",
       "    .dataframe thead th {\n",
       "        text-align: right;\n",
       "    }\n",
       "</style>\n",
       "<table border=\"1\" class=\"dataframe\">\n",
       "  <thead>\n",
       "    <tr style=\"text-align: right;\">\n",
       "      <th></th>\n",
       "      <th>Staff No.</th>\n",
       "      <th>Staff Name</th>\n",
       "      <th>Home Section</th>\n",
       "      <th>Basic License</th>\n",
       "      <th>Auth AC</th>\n",
       "      <th>Auth Eng</th>\n",
       "      <th>Lic AC</th>\n",
       "      <th>Lic Eng</th>\n",
       "      <th>Engrun</th>\n",
       "      <th>AC Sim</th>\n",
       "      <th>Examinar</th>\n",
       "      <th>EASA</th>\n",
       "      <th>Soft Skill Courses</th>\n",
       "      <th>T.PA</th>\n",
       "      <th>English Level</th>\n",
       "      <th>English Training Completed</th>\n",
       "      <th>S/L</th>\n",
       "    </tr>\n",
       "  </thead>\n",
       "  <tbody>\n",
       "  </tbody>\n",
       "</table>\n",
       "</div>"
      ],
      "text/plain": [
       "Empty DataFrame\n",
       "Columns: [Staff No., Staff Name, Home Section, Basic License, Auth AC, Auth Eng, Lic AC, Lic Eng, Engrun, AC Sim, Examinar, EASA, Soft Skill Courses, T.PA, English Level, English Training Completed, S/L]\n",
       "Index: []"
      ]
     },
     "execution_count": 47,
     "metadata": {},
     "output_type": "execute_result"
    }
   ],
   "source": [
    "#final.loc[final['Staff No.'] == '311580']\n"
   ]
  }
 ],
 "metadata": {
  "kernelspec": {
   "display_name": "Python 3",
   "language": "python",
   "name": "python3"
  },
  "language_info": {
   "codemirror_mode": {
    "name": "ipython",
    "version": 3
   },
   "file_extension": ".py",
   "mimetype": "text/x-python",
   "name": "python",
   "nbconvert_exporter": "python",
   "pygments_lexer": "ipython3",
   "version": "3.8.3"
  }
 },
 "nbformat": 4,
 "nbformat_minor": 4
}
